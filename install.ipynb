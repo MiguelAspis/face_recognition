{
 "cells": [
  {
   "cell_type": "code",
   "execution_count": 10,
   "metadata": {},
   "outputs": [],
   "source": [
    "from simple_image_download import simple_image_download as simp"
   ]
  },
  {
   "cell_type": "code",
   "execution_count": 33,
   "metadata": {},
   "outputs": [],
   "source": [
    "def fetch_images(keyword):\n",
    "    response = simp.simple_image_download\n",
    "    response().download(keyword, 3)\n",
    "    print(response().urls(keyword, 3))"
   ]
  },
  {
   "cell_type": "code",
   "execution_count": 14,
   "metadata": {},
   "outputs": [
    {
     "name": "stdout",
     "output_type": "stream",
     "text": [
      "None\n"
     ]
    }
   ],
   "source": [
    "fetch_images('elon musk')"
   ]
  },
  {
   "cell_type": "code",
   "execution_count": null,
   "metadata": {},
   "outputs": [],
   "source": [
    "fetch_images('bill gates')"
   ]
  },
  {
   "cell_type": "code",
   "execution_count": 18,
   "metadata": {},
   "outputs": [
    {
     "name": "stdout",
     "output_type": "stream",
     "text": [
      "['https://upload.wikimedia.org/wikipedia/commons/8/8b/Jim_Carrey_2008.jpg', 'https://m.media-amazon.com/images/M/MV5BMTQwMjAwNzI0M15BMl5BanBnXkFtZTcwOTY1MTMyOQ@@._V1_.jpg', 'https://areademulher.r7.com/wp-content/uploads/2020/03/jim-carrey-por-onde-anda-um-dos-maiores-nomes-de-hollywood.jpg', 'https://imagens2.ne10.uol.com.br/blogsne10/social1/uploads/2020/02/O-ator-Jim-Carrey-300x471.jpg', 'https://www.folhape.com.br/obj/7/370524,475,80,0,0,475,365,0,0,0,0.jpg', 'https://www.biography.com/.image/t_share/MTE4MDAzNDEwNzM3MDA2MDk0/jim-carrey-9542079-1-402.jpg', 'https://abrilveja.files.wordpress.com/2017/09/entretenimento-jim-carrey-20170905-003.jpg', 'https://m.media-amazon.com/images/M/MV5BOWEzM2Q0Y2MtNTg5OS00MzBjLTgxZjQtYjU4MmM3NDNlNjAxXkEyXkFqcGdeQXRzdGFzaWVr._CR129,56,1605,903_UX1248_UY702._SY351_SX624_AL_.jpg', 'https://f.i.uol.com.br/fotografia/2020/02/13/15816241215e45ab39c023f_1581624121_3x2_rt.jpg', 'https://www.emaisgoias.com.br/wp-content/uploads/2020/02/Jim-Carrey-%C3%A9-acusado-de-assediar-rep%C3%B3rter-durante-entrevista-ass%C3%A9dio-1200x1200.jpg']\n"
     ]
    }
   ],
   "source": [
    "fetch_images('jim carrey')"
   ]
  },
  {
   "cell_type": "code",
   "execution_count": 26,
   "metadata": {},
   "outputs": [
    {
     "name": "stdout",
     "output_type": "stream",
     "text": [
      "['https://upload.wikimedia.org/wikipedia/commons/7/7f/Emma_Watson_2013.jpg', 'https://abrilcapricho.files.wordpress.com/2019/08/emma-watson-tom-felton-foto-e1566244792501.png?w', 'https://www.biography.com/.image/t_share/MTQzMzAxODc2MTU3MjYxMzgz/emma-watson_gettyimages-619546914jpg.jpg', 'https://m.media-amazon.com/images/M/MV5BMTQ3ODE2NTMxMV5BMl5BanBnXkFtZTgwOTIzOTQzMjE@._V1_.jpg', 'https://f.i.uol.com.br/fotografia/2020/04/27/15880185535ea73d799f6e5_1588018553_3x2_md.jpg', 'https://heloisatolipan.com.br/imagens/2019/11/20191106-images-5.jpg', 'https://i.pinimg.com/originals/4a/e9/0d/4ae90dcb53cdcb6546c154ac398f62bc.jpg', 'https://abrilveja.files.wordpress.com/2017/05/gettyimages-680152814.jpg', 'https://static.glamurama.uol.com.br/2019/08/tomfemmaw.jpg', 'https://static1.purebreak.com.br/articles/2/88/82/2/@/337510-emma-watson-cria-linha-de-aconselhamento-diapo-2.jpg', 'https://cache.net-a-porter.com/content/images/story-body-content-V1-0-1537350316166.jpeg/w1900_q65.jpeg']\n"
     ]
    }
   ],
   "source": [
    "fetch_images('emma watson')"
   ]
  },
  {
   "cell_type": "code",
   "execution_count": 27,
   "metadata": {},
   "outputs": [
    {
     "name": "stdout",
     "output_type": "stream",
     "text": [
      "['https://upload.wikimedia.org/wikipedia/commons/e/e8/Chris_Hemsworth_by_Gage_Skidmore_2_%28cropped%29.jpg', 'https://www.otempo.com.br/image/contentid/policy:1.2327144:1587419144/Chris-Hemsworth-1.jpg?f', 'https://i.pinimg.com/originals/a1/95/26/a19526aa1214191e435f67e1bbf6115d.png', 'https://m.media-amazon.com/images/M/MV5BOTU2MTI0NTIyNV5BMl5BanBnXkFtZTcwMTA4Nzc3OA@@._V1_UY1200_CR85,0,630,1200_AL_.jpg', 'https://imirante.com/oestadoma/imagens/2019/08/07/1565179328-358560165-747x429.jpg', 'https://upload.wikimedia.org/wikipedia/commons/4/4c/Chris_Hemsworth_by_Gage_Skidmore.jpg', 'https://akns-images.eonline.com/eol_images/Entire_Site/2019526/rs_600x600-190626041714-600-Chris-Hemsworth-TAG-Heuer-AUS-LT-062619-GettyImages-1158321948.jpg?fit', 'https://conteudo.imguol.com.br/c/entretenimento/96/2018/08/20/chris-hemsworth-em-thor-ragnarok-1534799660071_v2_450x337.jpg', 'https://i.pinimg.com/474x/74/87/d6/7487d6d697374e7c0189ce9e66e04a86.jpg', 'https://pipocamoderna.com.br/wp-content/uploads/2019/05/chris-hemsworth.jpg', 'https://nyppagesix.files.wordpress.com/2019/06/chris-hemsworth.jpg?quality']\n"
     ]
    }
   ],
   "source": [
    "fetch_images('chris hemsworth')"
   ]
  },
  {
   "cell_type": "code",
   "execution_count": 28,
   "metadata": {},
   "outputs": [
    {
     "name": "stdout",
     "output_type": "stream",
     "text": [
      "['https://upload.wikimedia.org/wikipedia/commons/6/60/Scarlett_Johansson_by_Gage_Skidmore_2_%28cropped%29.jpg', 'https://i.ytimg.com/vi/lQJ__J5081I/maxresdefault.jpg', 'https://m.media-amazon.com/images/M/MV5BMTM3OTUwMDYwNl5BMl5BanBnXkFtZTcwNTUyNzc3Nw@@._V1_.jpg', 'https://akns-images.eonline.com/eol_images/Entire_Site/201939/rs_600x600-190409115507-600-scarlett.johansson.cl.040919.jpg?fit', 'https://abrilveja.files.wordpress.com/2018/06/entretenimento-scarlett-johansson-20170613-0001.jpg', 'https://conteudo.imguol.com.br/c/entretenimento/3e/2019/11/21/scarlett-johansson-1574351452484_v2_1330x1920.jpg', 'https://upload.wikimedia.org/wikipedia/commons/5/57/Scarlett_Johansson_by_Gage_Skidmore_2_%28cropped%29_%28cropped%29.jpg', 'https://media3.s-nbcnews.com/i/newscms/2019_29/2934096/190715-scarlett-johansson-cs-143p_d65c2614276482c17315a8c4e4544dc3.jpg', 'https://observatoriog.bol.uol.com.br/wordpress/wp-content/uploads/2019/11/images-16-1.jpg', 'https://www.hypeness.com.br/wp-content/uploads/2019/12/scarlett-johansson.jpg', 'https://img.estadao.com.br/thumbs/640/resources/jpg/0/7/1558363152770.jpg']\n"
     ]
    }
   ],
   "source": [
    "fetch_images('scarlett johansson')"
   ]
  },
  {
   "cell_type": "code",
   "execution_count": 29,
   "metadata": {},
   "outputs": [
    {
     "name": "stdout",
     "output_type": "stream",
     "text": [
      "['https://previews.123rf.com/images/goodluz/goodluz1204/goodluz120400077/13031236-portrait-of-handsome-30-year-old-man.jpg', 'https://previews.123rf.com/images/goodluz/goodluz1502/goodluz150200072/36000615-portrait-of-cheerful-30-year-old-man.jpg', 'https://c8.alamy.com/comp/R4AKCJ/smiling-30-year-old-man-R4AKCJ.jpg', 'https://thumbs.dreamstime.com/z/portrait-handsome-30-year-old-man-24139137.jpg', 'https://i.pinimg.com/originals/04/35/b2/0435b21351dd35df2eac9305d8f39121.jpg', 'https://c8.alamy.com/comp/KGWACH/portrait-of-handsome-30-year-old-man-KGWACH.jpg', 'https://previews.123rf.com/images/goodluz/goodluz1110/goodluz111000763/10979040-portrait-of-30-year-old-man-looking-at-camera.jpg', 'https://thumbs.dreamstime.com/z/portrait-handsome-year-old-man-67874886.jpg', 'https://st.depositphotos.com/1075946/1395/i/950/depositphotos_13956788-stock-photo-portrait-of-handsome-30-year.jpg', 'https://fscomps.fotosearch.com/compc/CSP/CSP991/portrait-of-handsome-30-year-old-man-stock-photo__k9978598.jpg', 'https://mh-1-stockagency.panthermedia.net/media/previews/0017000000/17822000/17822110_high.jpg']\n"
     ]
    }
   ],
   "source": [
    "fetch_images('30 year old man')"
   ]
  },
  {
   "cell_type": "code",
   "execution_count": 30,
   "metadata": {},
   "outputs": [
    {
     "name": "stdout",
     "output_type": "stream",
     "text": [
      "['https://dq1eylutsoz4u.cloudfront.net/2019/12/20060024/adult-man-baby-boomer-clean-cut_t20_b8wV6V-800x600-50-year-old-man.jpg', 'https://i.pinimg.com/originals/b0/9c/72/b09c725916ccc91a5cb8ee8741126381.jpg', 'https://i.pinimg.com/originals/7f/db/d1/7fdbd1cfac87a62cbedbce490e55a808.jpg', 'https://previews.123rf.com/images/goodluz/goodluz1504/goodluz150400109/38229195-portrait-of-attractive-50-year-old-man.jpg', 'https://previews.123rf.com/images/sylv1rob1/sylv1rob11607/sylv1rob1160700169/60016631-portrait-of-attractive-50-year-old-man.jpg', 'https://c8.alamy.com/comp/KGRFE9/portrait-of-attractive-50-year-old-man-KGRFE9.jpg', 'https://i.pinimg.com/originals/7f/01/a0/7f01a0fa97fcefb6358db52d8c79561a.jpg', 'https://static3.bigstockphoto.com/9/9/2/large1500/299666302.jpg', 'https://c8.alamy.com/comp/R4BD9D/portrait-of-50-year-old-man-standing-on-white-background-R4BD9D.jpg', 'https://previews.123rf.com/images/goodluz/goodluz1312/goodluz131200069/24141223-portrait-of-50-year-old-man-standing-on-white-background.jpg', 'https://www.yourcentralvalley.com/wp-content/uploads/sites/54/2018/12/12-13VPD_1544765158256_65199445_ver1.0.jpg?w']\n"
     ]
    }
   ],
   "source": [
    "fetch_images('50 year old man')"
   ]
  },
  {
   "cell_type": "code",
   "execution_count": 31,
   "metadata": {},
   "outputs": [
    {
     "name": "stdout",
     "output_type": "stream",
     "text": [
      "['https://i.pinimg.com/originals/4c/85/c7/4c85c7e7e9d5dc85b21067d7a2bea9e3.jpg', 'https://i.pinimg.com/600x315/42/4b/c6/424bc6ee662096001d2926a0cd78f661.jpg', 'https://i0.wp.com/datingtipsforsuccess.com/wp-content/uploads/2019/06/Is-Dating-Difficult_-2-4.jpg?fit', 'https://c8.alamy.com/comp/C1N8CY/60-year-old-man-with-beard-laughing-using-mobile-phone-C1N8CY.jpg', 'https://www.demilked.com/magazine/wp-content/uploads/2016/06/60-year-old-man-becomes-fashion-model-philippe-dumas-thumb6402.jpg', 'https://image.shutterstock.com/image-photo/senior-adult-260nw-311362103.jpg', 'https://image.shutterstock.com/image-photo/portrait-man-260nw-181673660.jpg', 'https://c8.alamy.com/comp/E5PT1M/60-year-old-man-E5PT1M.jpg', 'https://dq1eylutsoz4u.cloudfront.net/2017/09/04103638/60-year-old-men-in-relationships.jpg', 'https://i.pinimg.com/originals/58/d3/2f/58d32f5dd10504f22ff447547e973843.jpg', 'https://www.demilked.com/magazine/wp-content/uploads/2016/06/60-year-old-man-becomes-fashion-model-philippe-dumas-6.jpg']\n"
     ]
    }
   ],
   "source": [
    "fetch_images('60 year old man')"
   ]
  },
  {
   "cell_type": "code",
   "execution_count": 32,
   "metadata": {},
   "outputs": [
    {
     "name": "stdout",
     "output_type": "stream",
     "text": [
      "['https://previews.123rf.com/images/annanahabed/annanahabed1902/annanahabed190200245/118985392-fashion-portrait-of-beautiful-young-25-30-year-old-woman-with-professional-make-up-wearing-brown-lea.jpg', 'https://previews.123rf.com/images/annanahabed/annanahabed1902/annanahabed190200244/118985391-fashion-portrait-of-beautiful-young-25-30-year-old-woman-with-professional-make-up-wearing-brown-lea.jpg', 'https://c8.alamy.com/comp/HP9H4J/portrait-of-confident-30-year-old-woman-HP9H4J.jpg', 'https://files.brightside.me/files/news/part_74/745160/preview-12587960-1200x630-99-1558370086.jpg', 'https://thumbs.dreamstime.com/z/portrait-young-year-old-woman-fashion-beautiful-professional-make-up-wearing-brown-leather-jacket-knitted-pullover-99744108.jpg', 'https://ak.picdn.net/shutterstock/videos/1008401923/thumb/1.jpg', 'https://thumbs.dreamstime.com/z/portrait-young-year-old-woman-close-up-beautiful-professional-make-wearing-brown-leather-jacket-99744124.jpg', 'https://previews.123rf.com/images/lopolo/lopolo1502/lopolo150201326/36568243-a-beautiful-30-years-old-woman-standing-in-forest.jpg', 'https://files.brightside.me/files/news/part_74/745160/12587510-63453710-027685ad611ac7f2358cdbdecca35e97efa3f6ed-1500-1-1558339521-728-da21e90bf6-1558370086.jpg', 'https://www.sickchirpse.com/wp-content/uploads/2018/08/Amethyst-Realm.jpg', 'https://d1bvpoagx8hqbg.cloudfront.net/259/b97062c269b3dae79e5cd4ac54bc166b.jpg']\n"
     ]
    }
   ],
   "source": [
    "fetch_images('30 year old woman')"
   ]
  },
  {
   "cell_type": "code",
   "execution_count": 34,
   "metadata": {},
   "outputs": [
    {
     "name": "stdout",
     "output_type": "stream",
     "text": [
      "['https://utahvalley360.com/wp-content/uploads/2019/08/Lookalike-Bill-Gates.jpg', 'https://i.ytimg.com/vi/H8w0z4DR2FY/maxresdefault.jpg', 'https://i.pinimg.com/originals/56/b7/53/56b7539ef2dfb2d373ffcb5b234943b1.jpg']\n"
     ]
    }
   ],
   "source": [
    "fetch_images('bill gates look alike')"
   ]
  },
  {
   "cell_type": "code",
   "execution_count": 35,
   "metadata": {},
   "outputs": [
    {
     "name": "stdout",
     "output_type": "stream",
     "text": [
      "['https://i.pinimg.com/originals/22/d2/3c/22d23c218e7a5ce5b4f8b61faa7daeed.jpg', 'https://i.pinimg.com/originals/65/f6/b4/65f6b4512f5ac5387693b345110f4a60.jpg', 'https://imagez.tmz.com/image/2d/o/2016/08/08/2dda38238c975e9fbbf30857b66ba610_md.jpg']\n"
     ]
    }
   ],
   "source": [
    "fetch_images('jim carrey look alike')"
   ]
  },
  {
   "cell_type": "code",
   "execution_count": 36,
   "metadata": {},
   "outputs": [
    {
     "name": "stdout",
     "output_type": "stream",
     "text": [
      "['https://i.redd.it/kah922cfvop11.jpg', 'https://media.vanityfair.com/photos/5b5231ebc90551239533436d/3:2/w_1440,h_960,c_limit/t-Elon-Musk-Thailand-Movie.png', 'https://4.bp.blogspot.com/-iPHZAIg9DmM/WJx2OLvGY6I/AAAAAAAAkWQ/l6pZUkg4wAsmesJUA8JTjlJmG8sNqqftQCLcB/s420/art8.jpg']\n"
     ]
    }
   ],
   "source": [
    "fetch_images('elon musk look alike')"
   ]
  },
  {
   "cell_type": "code",
   "execution_count": 37,
   "metadata": {},
   "outputs": [
    {
     "name": "stdout",
     "output_type": "stream",
     "text": [
      "['https://i.pinimg.com/originals/aa/0d/54/aa0d5402b577eb04140d2d2f8457176a.jpg', 'https://i.pinimg.com/originals/19/72/c2/1972c2344a6f17e3d3557b3198dbd5b1.jpg', 'https://i.pinimg.com/originals/5f/f9/75/5ff975ab33740c67fa1180190e5ff1f8.jpg']\n"
     ]
    }
   ],
   "source": [
    "fetch_images('chris hemsworth look alike')"
   ]
  },
  {
   "cell_type": "code",
   "execution_count": 38,
   "metadata": {},
   "outputs": [
    {
     "name": "stdout",
     "output_type": "stream",
     "text": [
      "['https://hips.hearstapps.com/digitalspyuk.cdnds.net/17/24/1497346809-emma-watson-lookalike.jpg?resize', 'https://images.amcnetworks.com/bbcamerica.com/wp-content/uploads/2017/06/anglo_2000x1125_emmawatsonlookalike.jpg', 'https://i.pinimg.com/originals/6a/53/0a/6a530af5763184bd003080b9b7d7a39c.jpg']\n"
     ]
    }
   ],
   "source": [
    "fetch_images('emma watson look alike')"
   ]
  },
  {
   "cell_type": "code",
   "execution_count": 39,
   "metadata": {},
   "outputs": [
    {
     "name": "stdout",
     "output_type": "stream",
     "text": [
      "['https://i.ytimg.com/vi/Bv3dSBTEA_8/maxresdefault.jpg', 'https://www.etonline.com/sites/default/files/images/2017-04/1280_SCARJO_GRANDMA_SPLIT.jpg', 'https://i.pinimg.com/originals/c8/57/a2/c857a2c18c80f41c8e4d40291e3295f9.jpg']\n"
     ]
    }
   ],
   "source": [
    "fetch_images('scarlett johansson look alike')"
   ]
  },
  {
   "cell_type": "code",
   "execution_count": 40,
   "metadata": {},
   "outputs": [],
   "source": []
  },
  {
   "cell_type": "code",
   "execution_count": null,
   "metadata": {},
   "outputs": [],
   "source": []
  },
  {
   "cell_type": "code",
   "execution_count": null,
   "metadata": {},
   "outputs": [],
   "source": []
  }
 ],
 "metadata": {
  "kernelspec": {
   "display_name": "Python 3",
   "language": "python",
   "name": "python3"
  },
  "language_info": {
   "codemirror_mode": {
    "name": "ipython",
    "version": 3
   },
   "file_extension": ".py",
   "mimetype": "text/x-python",
   "name": "python",
   "nbconvert_exporter": "python",
   "pygments_lexer": "ipython3",
   "version": "3.8.3rc1"
  }
 },
 "nbformat": 4,
 "nbformat_minor": 4
}
